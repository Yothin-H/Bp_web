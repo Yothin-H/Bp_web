{
 "cells": [
  {
   "cell_type": "code",
   "execution_count": 1,
   "metadata": {},
   "outputs": [],
   "source": [
    "import pandas as pd\n"
   ]
  },
  {
   "cell_type": "code",
   "execution_count": 2,
   "metadata": {},
   "outputs": [],
   "source": [
    "data=pd.read_csv('/archive2/k_orawee/Taow/streamlit/gene_database.csv')"
   ]
  },
  {
   "cell_type": "code",
   "execution_count": 3,
   "metadata": {},
   "outputs": [],
   "source": [
    "test=pd.read_csv('/archive2/k_orawee/Taow/streamlit/B110-LEG3394ez.2.gatk.st.union.vcf',sep='\\t')"
   ]
  },
  {
   "cell_type": "code",
   "execution_count": 12,
   "metadata": {},
   "outputs": [
    {
     "data": {
      "text/plain": [
       "True"
      ]
     },
     "execution_count": 12,
     "metadata": {},
     "output_type": "execute_result"
    }
   ],
   "source": [
    "data['Sequence_Ref'][0]==test['#CHROM'][0]"
   ]
  },
  {
   "cell_type": "code",
   "execution_count": 20,
   "metadata": {},
   "outputs": [
    {
     "data": {
      "text/html": [
       "<div>\n",
       "<style scoped>\n",
       "    .dataframe tbody tr th:only-of-type {\n",
       "        vertical-align: middle;\n",
       "    }\n",
       "\n",
       "    .dataframe tbody tr th {\n",
       "        vertical-align: top;\n",
       "    }\n",
       "\n",
       "    .dataframe thead th {\n",
       "        text-align: right;\n",
       "    }\n",
       "</style>\n",
       "<table border=\"1\" class=\"dataframe\">\n",
       "  <thead>\n",
       "    <tr style=\"text-align: right;\">\n",
       "      <th></th>\n",
       "      <th>#CHROM</th>\n",
       "      <th>POS</th>\n",
       "      <th>ID</th>\n",
       "      <th>REF</th>\n",
       "      <th>ALT</th>\n",
       "      <th>QUAL</th>\n",
       "      <th>FILTER</th>\n",
       "      <th>INFO</th>\n",
       "      <th>FORMAT</th>\n",
       "      <th>Mtb.gatk</th>\n",
       "      <th>Mtb.samtools</th>\n",
       "    </tr>\n",
       "  </thead>\n",
       "  <tbody>\n",
       "    <tr>\n",
       "      <th>0</th>\n",
       "      <td>NC_006350.1</td>\n",
       "      <td>82</td>\n",
       "      <td>.</td>\n",
       "      <td>G</td>\n",
       "      <td>A</td>\n",
       "      <td>9653.0</td>\n",
       "      <td>PASS</td>\n",
       "      <td>AC=3;AC1=2;AF=1.00;AF1=1;AN=3;DP=367;DP4=0,0,9...</td>\n",
       "      <td>GT:AD:DP:GQ:PL</td>\n",
       "      <td>1:0,246:246:99:9683,0</td>\n",
       "      <td>1/1:.:.:.:255,255,0</td>\n",
       "    </tr>\n",
       "    <tr>\n",
       "      <th>1</th>\n",
       "      <td>NC_006350.1</td>\n",
       "      <td>238</td>\n",
       "      <td>.</td>\n",
       "      <td>C</td>\n",
       "      <td>T</td>\n",
       "      <td>10125.0</td>\n",
       "      <td>PASS</td>\n",
       "      <td>AC=3;AC1=2;AF=1.00;AF1=1;AN=3;BaseQRankSum=1.6...</td>\n",
       "      <td>GT:AD:DP:GQ:PL</td>\n",
       "      <td>1:1,249:250:99:10155,0</td>\n",
       "      <td>1/1:.:.:.:255,255,0</td>\n",
       "    </tr>\n",
       "    <tr>\n",
       "      <th>2</th>\n",
       "      <td>NC_006350.1</td>\n",
       "      <td>649</td>\n",
       "      <td>.</td>\n",
       "      <td>G</td>\n",
       "      <td>A</td>\n",
       "      <td>10215.0</td>\n",
       "      <td>PASS</td>\n",
       "      <td>AC=3;AC1=2;AF=1.00;AF1=1;AN=3;DP=649;DP4=0,0,2...</td>\n",
       "      <td>GT:AD:DP:GQ:PL</td>\n",
       "      <td>1:0,250:250:99:10245,0</td>\n",
       "      <td>1/1:.:.:.:255,255,0</td>\n",
       "    </tr>\n",
       "    <tr>\n",
       "      <th>3</th>\n",
       "      <td>NC_006350.1</td>\n",
       "      <td>814</td>\n",
       "      <td>.</td>\n",
       "      <td>T</td>\n",
       "      <td>C</td>\n",
       "      <td>10341.0</td>\n",
       "      <td>PASS</td>\n",
       "      <td>AC=3;AC1=2;AF=1.00;AF1=1;AN=3;DP=662;DP4=0,0,2...</td>\n",
       "      <td>GT:AD:DP:GQ:PL</td>\n",
       "      <td>1:0,250:250:99:10371,0</td>\n",
       "      <td>1/1:.:.:.:255,255,0</td>\n",
       "    </tr>\n",
       "    <tr>\n",
       "      <th>4</th>\n",
       "      <td>NC_006350.1</td>\n",
       "      <td>2969</td>\n",
       "      <td>.</td>\n",
       "      <td>T</td>\n",
       "      <td>G</td>\n",
       "      <td>10251.0</td>\n",
       "      <td>PASS</td>\n",
       "      <td>AC=3;AC1=2;AF=1.00;AF1=1;AN=3;DP=656;DP4=0,0,1...</td>\n",
       "      <td>GT:AD:DP:GQ:PL</td>\n",
       "      <td>1:0,250:250:99:10281,0</td>\n",
       "      <td>1/1:.:.:.:255,255,0</td>\n",
       "    </tr>\n",
       "    <tr>\n",
       "      <th>...</th>\n",
       "      <td>...</td>\n",
       "      <td>...</td>\n",
       "      <td>...</td>\n",
       "      <td>...</td>\n",
       "      <td>...</td>\n",
       "      <td>...</td>\n",
       "      <td>...</td>\n",
       "      <td>...</td>\n",
       "      <td>...</td>\n",
       "      <td>...</td>\n",
       "      <td>...</td>\n",
       "    </tr>\n",
       "    <tr>\n",
       "      <th>25607</th>\n",
       "      <td>NC_006351.1</td>\n",
       "      <td>3172050</td>\n",
       "      <td>.</td>\n",
       "      <td>A</td>\n",
       "      <td>T</td>\n",
       "      <td>9880.0</td>\n",
       "      <td>PASS</td>\n",
       "      <td>AC=3;AC1=2;AF=1.00;AF1=1;AN=3;BQB=1;BaseQRankS...</td>\n",
       "      <td>GT:AD:DP:GQ:PL</td>\n",
       "      <td>1:1,247:249:99:9910,0</td>\n",
       "      <td>1/1:.:.:.:255,255,0</td>\n",
       "    </tr>\n",
       "    <tr>\n",
       "      <th>25608</th>\n",
       "      <td>NC_006351.1</td>\n",
       "      <td>3172135</td>\n",
       "      <td>.</td>\n",
       "      <td>C</td>\n",
       "      <td>T</td>\n",
       "      <td>10233.0</td>\n",
       "      <td>PASS</td>\n",
       "      <td>AC=3;AC1=2;AF=1.00;AF1=1;AN=3;BQB=1;DP=607;DP4...</td>\n",
       "      <td>GT:AD:DP:GQ:PL</td>\n",
       "      <td>1:0,250:250:99:10263,0</td>\n",
       "      <td>1/1:.:.:.:255,255,0</td>\n",
       "    </tr>\n",
       "    <tr>\n",
       "      <th>25609</th>\n",
       "      <td>NC_006351.1</td>\n",
       "      <td>3172464</td>\n",
       "      <td>.</td>\n",
       "      <td>T</td>\n",
       "      <td>C</td>\n",
       "      <td>10257.0</td>\n",
       "      <td>PASS</td>\n",
       "      <td>AC=3;AC1=2;AF=1.00;AF1=1;AN=3;DP=613;DP4=0,0,1...</td>\n",
       "      <td>GT:AD:DP:GQ:PL</td>\n",
       "      <td>1:0,249:249:99:10287,0</td>\n",
       "      <td>1/1:.:.:.:255,255,0</td>\n",
       "    </tr>\n",
       "    <tr>\n",
       "      <th>25610</th>\n",
       "      <td>NC_006351.1</td>\n",
       "      <td>3172503</td>\n",
       "      <td>.</td>\n",
       "      <td>C</td>\n",
       "      <td>T</td>\n",
       "      <td>10323.0</td>\n",
       "      <td>PASS</td>\n",
       "      <td>AC=3;AC1=2;AF=1.00;AF1=1;AN=3;DP=614;DP4=0,0,2...</td>\n",
       "      <td>GT:AD:DP:GQ:PL</td>\n",
       "      <td>1:0,249:249:99:10353,0</td>\n",
       "      <td>1/1:.:.:.:255,255,0</td>\n",
       "    </tr>\n",
       "    <tr>\n",
       "      <th>25611</th>\n",
       "      <td>NC_006351.1</td>\n",
       "      <td>3172716</td>\n",
       "      <td>.</td>\n",
       "      <td>C</td>\n",
       "      <td>T</td>\n",
       "      <td>10328.0</td>\n",
       "      <td>PASS</td>\n",
       "      <td>AC=3;AC1=2;AF=1.00;AF1=1;AN=3;DP=575;DP4=0,0,1...</td>\n",
       "      <td>GT:AD:DP:GQ:PL</td>\n",
       "      <td>1:0,250:250:99:10358,0</td>\n",
       "      <td>1/1:.:.:.:255,255,0</td>\n",
       "    </tr>\n",
       "  </tbody>\n",
       "</table>\n",
       "<p>25612 rows × 11 columns</p>\n",
       "</div>"
      ],
      "text/plain": [
       "            #CHROM      POS ID REF ALT     QUAL FILTER  \\\n",
       "0      NC_006350.1       82  .   G   A   9653.0   PASS   \n",
       "1      NC_006350.1      238  .   C   T  10125.0   PASS   \n",
       "2      NC_006350.1      649  .   G   A  10215.0   PASS   \n",
       "3      NC_006350.1      814  .   T   C  10341.0   PASS   \n",
       "4      NC_006350.1     2969  .   T   G  10251.0   PASS   \n",
       "...            ...      ... ..  ..  ..      ...    ...   \n",
       "25607  NC_006351.1  3172050  .   A   T   9880.0   PASS   \n",
       "25608  NC_006351.1  3172135  .   C   T  10233.0   PASS   \n",
       "25609  NC_006351.1  3172464  .   T   C  10257.0   PASS   \n",
       "25610  NC_006351.1  3172503  .   C   T  10323.0   PASS   \n",
       "25611  NC_006351.1  3172716  .   C   T  10328.0   PASS   \n",
       "\n",
       "                                                    INFO          FORMAT  \\\n",
       "0      AC=3;AC1=2;AF=1.00;AF1=1;AN=3;DP=367;DP4=0,0,9...  GT:AD:DP:GQ:PL   \n",
       "1      AC=3;AC1=2;AF=1.00;AF1=1;AN=3;BaseQRankSum=1.6...  GT:AD:DP:GQ:PL   \n",
       "2      AC=3;AC1=2;AF=1.00;AF1=1;AN=3;DP=649;DP4=0,0,2...  GT:AD:DP:GQ:PL   \n",
       "3      AC=3;AC1=2;AF=1.00;AF1=1;AN=3;DP=662;DP4=0,0,2...  GT:AD:DP:GQ:PL   \n",
       "4      AC=3;AC1=2;AF=1.00;AF1=1;AN=3;DP=656;DP4=0,0,1...  GT:AD:DP:GQ:PL   \n",
       "...                                                  ...             ...   \n",
       "25607  AC=3;AC1=2;AF=1.00;AF1=1;AN=3;BQB=1;BaseQRankS...  GT:AD:DP:GQ:PL   \n",
       "25608  AC=3;AC1=2;AF=1.00;AF1=1;AN=3;BQB=1;DP=607;DP4...  GT:AD:DP:GQ:PL   \n",
       "25609  AC=3;AC1=2;AF=1.00;AF1=1;AN=3;DP=613;DP4=0,0,1...  GT:AD:DP:GQ:PL   \n",
       "25610  AC=3;AC1=2;AF=1.00;AF1=1;AN=3;DP=614;DP4=0,0,2...  GT:AD:DP:GQ:PL   \n",
       "25611  AC=3;AC1=2;AF=1.00;AF1=1;AN=3;DP=575;DP4=0,0,1...  GT:AD:DP:GQ:PL   \n",
       "\n",
       "                     Mtb.gatk         Mtb.samtools  \n",
       "0       1:0,246:246:99:9683,0  1/1:.:.:.:255,255,0  \n",
       "1      1:1,249:250:99:10155,0  1/1:.:.:.:255,255,0  \n",
       "2      1:0,250:250:99:10245,0  1/1:.:.:.:255,255,0  \n",
       "3      1:0,250:250:99:10371,0  1/1:.:.:.:255,255,0  \n",
       "4      1:0,250:250:99:10281,0  1/1:.:.:.:255,255,0  \n",
       "...                       ...                  ...  \n",
       "25607   1:1,247:249:99:9910,0  1/1:.:.:.:255,255,0  \n",
       "25608  1:0,250:250:99:10263,0  1/1:.:.:.:255,255,0  \n",
       "25609  1:0,249:249:99:10287,0  1/1:.:.:.:255,255,0  \n",
       "25610  1:0,249:249:99:10353,0  1/1:.:.:.:255,255,0  \n",
       "25611  1:0,250:250:99:10358,0  1/1:.:.:.:255,255,0  \n",
       "\n",
       "[25612 rows x 11 columns]"
      ]
     },
     "execution_count": 20,
     "metadata": {},
     "output_type": "execute_result"
    }
   ],
   "source": [
    "test"
   ]
  },
  {
   "cell_type": "code",
   "execution_count": 7,
   "metadata": {},
   "outputs": [],
   "source": [
    "# Convert columns to string to ensure consistent data types\n",
    "test['#CHROM'] = test['#CHROM'].astype(str)\n",
    "data['Sequence_Ref'] = data['Sequence_Ref'].astype(str)\n",
    "\n",
    "test['POS'] = test['POS'].astype(str)\n",
    "data['Chromosome position'] = data['Chromosome position'].astype(str)\n",
    "\n",
    "# Adding an index column to `data` for reference\n",
    "data['index'] = data.index\n",
    "\n",
    "# Merging the two DataFrames after ensuring the data types are consistent\n",
    "merged_df = test.merge(\n",
    "    data,\n",
    "    left_on=['#CHROM', 'POS','REF','ALT'],\n",
    "    right_on=['Sequence_Ref', 'Chromosome position','Reference Nucleotide','Alternative Nucleotide'],\n",
    "    how='inner'\n",
    ")\n",
    "\n",
    "# Getting the indices from the 'data' DataFrame that match the conditions\n",
    "al1 = merged_df['index'].tolist()"
   ]
  },
  {
   "cell_type": "code",
   "execution_count": 8,
   "metadata": {},
   "outputs": [],
   "source": [
    "mm=merged_df[['Gene','POS','REF','ALT','QUAL','Positive Ref Codon','Positive Alt Codon','Nucleotide change','Amino acid change','Drug','AST','Reference']]"
   ]
  },
  {
   "cell_type": "code",
   "execution_count": 9,
   "metadata": {},
   "outputs": [
    {
     "data": {
      "text/html": [
       "<div>\n",
       "<style scoped>\n",
       "    .dataframe tbody tr th:only-of-type {\n",
       "        vertical-align: middle;\n",
       "    }\n",
       "\n",
       "    .dataframe tbody tr th {\n",
       "        vertical-align: top;\n",
       "    }\n",
       "\n",
       "    .dataframe thead th {\n",
       "        text-align: right;\n",
       "    }\n",
       "</style>\n",
       "<table border=\"1\" class=\"dataframe\">\n",
       "  <thead>\n",
       "    <tr style=\"text-align: right;\">\n",
       "      <th></th>\n",
       "      <th>#CHROM</th>\n",
       "      <th>POS</th>\n",
       "      <th>ID</th>\n",
       "      <th>REF</th>\n",
       "      <th>ALT</th>\n",
       "      <th>QUAL</th>\n",
       "      <th>FILTER</th>\n",
       "      <th>INFO</th>\n",
       "      <th>FORMAT</th>\n",
       "      <th>Mtb.gatk</th>\n",
       "      <th>...</th>\n",
       "      <th>Stop</th>\n",
       "      <th>Sequence_Ref</th>\n",
       "      <th>Positive Ref Codon</th>\n",
       "      <th>Positive Alt Codon</th>\n",
       "      <th>Reference Nucleotide</th>\n",
       "      <th>Alternative Nucleotide</th>\n",
       "      <th>Nucleotide change</th>\n",
       "      <th>Chromosome position</th>\n",
       "      <th>Amino acid change</th>\n",
       "      <th>index</th>\n",
       "    </tr>\n",
       "  </thead>\n",
       "  <tbody>\n",
       "    <tr>\n",
       "      <th>0</th>\n",
       "      <td>NC_006350.1</td>\n",
       "      <td>2152876</td>\n",
       "      <td>.</td>\n",
       "      <td>G</td>\n",
       "      <td>T</td>\n",
       "      <td>214.46</td>\n",
       "      <td>PASS</td>\n",
       "      <td>AC=2;AC1=2;AF=1.00;AF1=1;AN=2;DP=363;DP4=0,0,1...</td>\n",
       "      <td>GT:PL</td>\n",
       "      <td>./.</td>\n",
       "      <td>...</td>\n",
       "      <td>2152980</td>\n",
       "      <td>NC_006350.1</td>\n",
       "      <td>GAG</td>\n",
       "      <td>TAG</td>\n",
       "      <td>G</td>\n",
       "      <td>T</td>\n",
       "      <td>G568T</td>\n",
       "      <td>2152876</td>\n",
       "      <td>Glu190*</td>\n",
       "      <td>0</td>\n",
       "    </tr>\n",
       "  </tbody>\n",
       "</table>\n",
       "<p>1 rows × 31 columns</p>\n",
       "</div>"
      ],
      "text/plain": [
       "        #CHROM      POS ID REF ALT    QUAL FILTER  \\\n",
       "0  NC_006350.1  2152876  .   G   T  214.46   PASS   \n",
       "\n",
       "                                                INFO FORMAT Mtb.gatk  ...  \\\n",
       "0  AC=2;AC1=2;AF=1.00;AF1=1;AN=2;DP=363;DP4=0,0,1...  GT:PL      ./.  ...   \n",
       "\n",
       "      Stop Sequence_Ref Positive Ref Codon Positive Alt Codon  \\\n",
       "0  2152980  NC_006350.1                GAG                TAG   \n",
       "\n",
       "  Reference Nucleotide Alternative Nucleotide Nucleotide change  \\\n",
       "0                    G                      T             G568T   \n",
       "\n",
       "  Chromosome position  Amino acid change index  \n",
       "0             2152876            Glu190*     0  \n",
       "\n",
       "[1 rows x 31 columns]"
      ]
     },
     "execution_count": 9,
     "metadata": {},
     "output_type": "execute_result"
    }
   ],
   "source": [
    "merged_df"
   ]
  },
  {
   "cell_type": "markdown",
   "metadata": {},
   "source": []
  },
  {
   "cell_type": "code",
   "execution_count": 10,
   "metadata": {},
   "outputs": [
    {
     "data": {
      "text/html": [
       "<div>\n",
       "<style scoped>\n",
       "    .dataframe tbody tr th:only-of-type {\n",
       "        vertical-align: middle;\n",
       "    }\n",
       "\n",
       "    .dataframe tbody tr th {\n",
       "        vertical-align: top;\n",
       "    }\n",
       "\n",
       "    .dataframe thead th {\n",
       "        text-align: right;\n",
       "    }\n",
       "</style>\n",
       "<table border=\"1\" class=\"dataframe\">\n",
       "  <thead>\n",
       "    <tr style=\"text-align: right;\">\n",
       "      <th></th>\n",
       "      <th>Gene</th>\n",
       "      <th>POS</th>\n",
       "      <th>REF</th>\n",
       "      <th>ALT</th>\n",
       "      <th>QUAL</th>\n",
       "      <th>Positive Ref Codon</th>\n",
       "      <th>Positive Alt Codon</th>\n",
       "      <th>Nucleotide change</th>\n",
       "      <th>Amino acid change</th>\n",
       "      <th>Drug</th>\n",
       "      <th>AST</th>\n",
       "    </tr>\n",
       "  </thead>\n",
       "  <tbody>\n",
       "    <tr>\n",
       "      <th>0</th>\n",
       "      <td>amrR</td>\n",
       "      <td>2152876</td>\n",
       "      <td>G</td>\n",
       "      <td>T</td>\n",
       "      <td>214.46</td>\n",
       "      <td>GAG</td>\n",
       "      <td>TAG</td>\n",
       "      <td>G568T</td>\n",
       "      <td>Glu190*</td>\n",
       "      <td>Meropenem</td>\n",
       "      <td>Resistance</td>\n",
       "    </tr>\n",
       "  </tbody>\n",
       "</table>\n",
       "</div>"
      ],
      "text/plain": [
       "   Gene      POS REF ALT    QUAL Positive Ref Codon Positive Alt Codon  \\\n",
       "0  amrR  2152876   G   T  214.46                GAG                TAG   \n",
       "\n",
       "  Nucleotide change Amino acid change       Drug         AST  \n",
       "0             G568T           Glu190*  Meropenem  Resistance  "
      ]
     },
     "execution_count": 10,
     "metadata": {},
     "output_type": "execute_result"
    }
   ],
   "source": [
    "mm"
   ]
  },
  {
   "cell_type": "code",
   "execution_count": 17,
   "metadata": {},
   "outputs": [],
   "source": [
    "for i in range(len(mm)):\n",
    "    matches1 = mm.query('Drug == \"Ceftazidime\" or Drug == \"Meropenem\"')\n"
   ]
  },
  {
   "cell_type": "code",
   "execution_count": 18,
   "metadata": {},
   "outputs": [
    {
     "data": {
      "text/html": [
       "<div>\n",
       "<style scoped>\n",
       "    .dataframe tbody tr th:only-of-type {\n",
       "        vertical-align: middle;\n",
       "    }\n",
       "\n",
       "    .dataframe tbody tr th {\n",
       "        vertical-align: top;\n",
       "    }\n",
       "\n",
       "    .dataframe thead th {\n",
       "        text-align: right;\n",
       "    }\n",
       "</style>\n",
       "<table border=\"1\" class=\"dataframe\">\n",
       "  <thead>\n",
       "    <tr style=\"text-align: right;\">\n",
       "      <th></th>\n",
       "      <th>Gene</th>\n",
       "      <th>POS</th>\n",
       "      <th>REF</th>\n",
       "      <th>ALT</th>\n",
       "      <th>QUAL</th>\n",
       "      <th>Positive Ref Codon</th>\n",
       "      <th>Positive Alt Codon</th>\n",
       "      <th>Nucleotide change</th>\n",
       "      <th>Amino acid change</th>\n",
       "      <th>Drug</th>\n",
       "      <th>AST</th>\n",
       "    </tr>\n",
       "  </thead>\n",
       "  <tbody>\n",
       "    <tr>\n",
       "      <th>0</th>\n",
       "      <td>amrR</td>\n",
       "      <td>2152876</td>\n",
       "      <td>G</td>\n",
       "      <td>T</td>\n",
       "      <td>214.46</td>\n",
       "      <td>GAG</td>\n",
       "      <td>TAG</td>\n",
       "      <td>G568T</td>\n",
       "      <td>Glu190*</td>\n",
       "      <td>Meropenem</td>\n",
       "      <td>Resistance</td>\n",
       "    </tr>\n",
       "  </tbody>\n",
       "</table>\n",
       "</div>"
      ],
      "text/plain": [
       "   Gene      POS REF ALT    QUAL Positive Ref Codon Positive Alt Codon  \\\n",
       "0  amrR  2152876   G   T  214.46                GAG                TAG   \n",
       "\n",
       "  Nucleotide change Amino acid change       Drug         AST  \n",
       "0             G568T           Glu190*  Meropenem  Resistance  "
      ]
     },
     "execution_count": 18,
     "metadata": {},
     "output_type": "execute_result"
    }
   ],
   "source": [
    "matches1"
   ]
  },
  {
   "cell_type": "code",
   "execution_count": 32,
   "metadata": {},
   "outputs": [],
   "source": [
    "druglist=['Ceftazidime','Meropenem']\n",
    "interpretlist=['Susceptible','Susceptible']\n",
    "fstdrug=pd.DataFrame(druglist)\n",
    "fstdrug['Interpretation']=interpretlist"
   ]
  },
  {
   "cell_type": "code",
   "execution_count": 43,
   "metadata": {},
   "outputs": [
    {
     "data": {
      "text/html": [
       "<div>\n",
       "<style scoped>\n",
       "    .dataframe tbody tr th:only-of-type {\n",
       "        vertical-align: middle;\n",
       "    }\n",
       "\n",
       "    .dataframe tbody tr th {\n",
       "        vertical-align: top;\n",
       "    }\n",
       "\n",
       "    .dataframe thead th {\n",
       "        text-align: right;\n",
       "    }\n",
       "</style>\n",
       "<table border=\"1\" class=\"dataframe\">\n",
       "  <thead>\n",
       "    <tr style=\"text-align: right;\">\n",
       "      <th></th>\n",
       "      <th>Drugs</th>\n",
       "      <th>Interpretation</th>\n",
       "    </tr>\n",
       "  </thead>\n",
       "  <tbody>\n",
       "    <tr>\n",
       "      <th>0</th>\n",
       "      <td>Ceftazidime</td>\n",
       "      <td>Resistance</td>\n",
       "    </tr>\n",
       "    <tr>\n",
       "      <th>1</th>\n",
       "      <td>Meropenem</td>\n",
       "      <td>Resistance</td>\n",
       "    </tr>\n",
       "  </tbody>\n",
       "</table>\n",
       "</div>"
      ],
      "text/plain": [
       "         Drugs Interpretation\n",
       "0  Ceftazidime     Resistance\n",
       "1    Meropenem     Resistance"
      ]
     },
     "execution_count": 43,
     "metadata": {},
     "output_type": "execute_result"
    }
   ],
   "source": [
    "fstdrug"
   ]
  },
  {
   "cell_type": "code",
   "execution_count": 42,
   "metadata": {},
   "outputs": [],
   "source": [
    "fstdrug.columns=['Drugs','Interpretation']"
   ]
  },
  {
   "cell_type": "code",
   "execution_count": 44,
   "metadata": {},
   "outputs": [],
   "source": [
    "\n",
    "for i in range(len(mm)):\n",
    "    if (mm['Drug'][i]=='Meropenem'):\n",
    "        if mm['AST'][i]=='Resistance' :\n",
    "            fstdrug['Interpretation'][1]='Resistance'\n",
    "        elif (mm['AST'][i]=='Intermediate')&(fstdrug['Interpretation'][1]!='Resistance'):\n",
    "            fstdrug['Interpretation'][1]='Intermediate'\n",
    "        else :\n",
    "            pass\n",
    "    elif (mm['Drug'][i]=='Ceftazidime'):\n",
    "        if mm['AST'][i]=='Resistance' :\n",
    "            fstdrug['Interpretation'][0]='Resistance'\n",
    "        elif (mm['AST'][i]=='Intermediate')&(fstdrug['Interpretation'][1]!='Resistance'):\n",
    "            fstdrug['Interpretation'][0]='Intermediate'\n",
    "        else :\n",
    "            pass\n",
    "    else:\n",
    "        pass\n"
   ]
  },
  {
   "cell_type": "code",
   "execution_count": 58,
   "metadata": {},
   "outputs": [
    {
     "data": {
      "text/html": [
       "<div>\n",
       "<style scoped>\n",
       "    .dataframe tbody tr th:only-of-type {\n",
       "        vertical-align: middle;\n",
       "    }\n",
       "\n",
       "    .dataframe tbody tr th {\n",
       "        vertical-align: top;\n",
       "    }\n",
       "\n",
       "    .dataframe thead th {\n",
       "        text-align: right;\n",
       "    }\n",
       "</style>\n",
       "<table border=\"1\" class=\"dataframe\">\n",
       "  <thead>\n",
       "    <tr style=\"text-align: right;\">\n",
       "      <th></th>\n",
       "      <th>Interpretation</th>\n",
       "    </tr>\n",
       "    <tr>\n",
       "      <th>Drug</th>\n",
       "      <th></th>\n",
       "    </tr>\n",
       "  </thead>\n",
       "  <tbody>\n",
       "    <tr>\n",
       "      <th>Ceftazidime</th>\n",
       "      <td>Susceptible</td>\n",
       "    </tr>\n",
       "    <tr>\n",
       "      <th>Meropenem</th>\n",
       "      <td>Resistance</td>\n",
       "    </tr>\n",
       "  </tbody>\n",
       "</table>\n",
       "</div>"
      ],
      "text/plain": [
       "            Interpretation\n",
       "Drug                      \n",
       "Ceftazidime    Susceptible\n",
       "Meropenem       Resistance"
      ]
     },
     "execution_count": 58,
     "metadata": {},
     "output_type": "execute_result"
    }
   ],
   "source": [
    "fstdrug"
   ]
  },
  {
   "cell_type": "code",
   "execution_count": 57,
   "metadata": {},
   "outputs": [],
   "source": [
    "fstdrug.set_index('Drug', inplace=True)"
   ]
  },
  {
   "cell_type": "code",
   "execution_count": 50,
   "metadata": {},
   "outputs": [
    {
     "data": {
      "text/html": [
       "<div>\n",
       "<style scoped>\n",
       "    .dataframe tbody tr th:only-of-type {\n",
       "        vertical-align: middle;\n",
       "    }\n",
       "\n",
       "    .dataframe tbody tr th {\n",
       "        vertical-align: top;\n",
       "    }\n",
       "\n",
       "    .dataframe thead th {\n",
       "        text-align: right;\n",
       "    }\n",
       "</style>\n",
       "<table border=\"1\" class=\"dataframe\">\n",
       "  <thead>\n",
       "    <tr style=\"text-align: right;\">\n",
       "      <th></th>\n",
       "      <th>Drug</th>\n",
       "      <th>Interpretation</th>\n",
       "    </tr>\n",
       "  </thead>\n",
       "  <tbody>\n",
       "    <tr>\n",
       "      <th>0</th>\n",
       "      <td>Ceftazidime</td>\n",
       "      <td>Susceptible</td>\n",
       "    </tr>\n",
       "    <tr>\n",
       "      <th>1</th>\n",
       "      <td>Meropenem</td>\n",
       "      <td>Resistance</td>\n",
       "    </tr>\n",
       "  </tbody>\n",
       "</table>\n",
       "</div>"
      ],
      "text/plain": [
       "          Drug Interpretation\n",
       "0  Ceftazidime    Susceptible\n",
       "1    Meropenem     Resistance"
      ]
     },
     "execution_count": 50,
     "metadata": {},
     "output_type": "execute_result"
    }
   ],
   "source": [
    "import pandas as pd\n",
    "\n",
    "\n",
    "# Initial fstdrug DataFrame\n",
    "druglist = ['Ceftazidime', 'Meropenem']\n",
    "interpretlist = ['Susceptible', 'Susceptible']\n",
    "fstdrug = pd.DataFrame({\n",
    "    'Drug': druglist,\n",
    "    'Interpretation': interpretlist\n",
    "})\n",
    "\n",
    "# Define mapping for drug to index\n",
    "drug_index = {drug: idx for idx, drug in enumerate(druglist)}\n",
    "\n",
    "# Update the Interpretation column based on conditions\n",
    "def update_interpretation(drug, ast, current_value):\n",
    "    if ast == 'Resistance':\n",
    "        return 'Resistance'\n",
    "    elif ast == 'Intermediate' and current_value != 'Resistance':\n",
    "        return 'Intermediate'\n",
    "    return current_value\n",
    "\n",
    "# Apply conditions to update fstdrug\n",
    "for i, row in mm.iterrows():\n",
    "    drug = row['Drug']\n",
    "    ast = row['AST']\n",
    "    if drug in drug_index:\n",
    "        index = drug_index[drug]\n",
    "        fstdrug.at[index, 'Interpretation'] = update_interpretation(drug, ast, fstdrug.at[index, 'Interpretation'])\n",
    "fstdrug\n"
   ]
  },
  {
   "cell_type": "code",
   "execution_count": 53,
   "metadata": {},
   "outputs": [
    {
     "data": {
      "text/plain": [
       "'Susceptible'"
      ]
     },
     "execution_count": 53,
     "metadata": {},
     "output_type": "execute_result"
    }
   ],
   "source": [
    "fstdrug.at[0, 'Interpretation']"
   ]
  },
  {
   "cell_type": "code",
   "execution_count": 56,
   "metadata": {},
   "outputs": [
    {
     "data": {
      "text/plain": [
       "0"
      ]
     },
     "execution_count": 56,
     "metadata": {},
     "output_type": "execute_result"
    }
   ],
   "source": [
    "drug_index['Ceftazidime']"
   ]
  },
  {
   "cell_type": "code",
   "execution_count": 67,
   "metadata": {},
   "outputs": [
    {
     "ename": "AttributeError",
     "evalue": "'Styler' object has no attribute 'map'",
     "output_type": "error",
     "traceback": [
      "\u001b[0;31m---------------------------------------------------------------------------\u001b[0m",
      "\u001b[0;31mAttributeError\u001b[0m                            Traceback (most recent call last)",
      "\u001b[0;32m<ipython-input-67-d55b96fb9cf4>\u001b[0m in \u001b[0;36m<module>\u001b[0;34m\u001b[0m\n\u001b[0;32m----> 1\u001b[0;31m \u001b[0mfstdrug\u001b[0m \u001b[0;34m=\u001b[0m \u001b[0mfstdrug\u001b[0m\u001b[0;34m.\u001b[0m\u001b[0mstyle\u001b[0m\u001b[0;34m.\u001b[0m\u001b[0mmap\u001b[0m\u001b[0;34m(\u001b[0m\u001b[0;32mlambda\u001b[0m \u001b[0mx\u001b[0m\u001b[0;34m:\u001b[0m \u001b[0;34mf\"background-color: {'green' if x=='Susceptible' else 'red'}\"\u001b[0m\u001b[0;34m,\u001b[0m \u001b[0msubset\u001b[0m\u001b[0;34m=\u001b[0m\u001b[0;34m'Value'\u001b[0m\u001b[0;34m)\u001b[0m\u001b[0;34m\u001b[0m\u001b[0;34m\u001b[0m\u001b[0m\n\u001b[0m",
      "\u001b[0;31mAttributeError\u001b[0m: 'Styler' object has no attribute 'map'"
     ]
    }
   ],
   "source": [
    "fstdrug = fstdrug.style.map(lambda x: f\"background-color: {'green' if x=='Susceptible' else 'red'}\", subset='I')\n"
   ]
  },
  {
   "cell_type": "code",
   "execution_count": null,
   "metadata": {},
   "outputs": [],
   "source": []
  }
 ],
 "metadata": {
  "kernelspec": {
   "display_name": "Python 3",
   "language": "python",
   "name": "python3"
  },
  "language_info": {
   "codemirror_mode": {
    "name": "ipython",
    "version": 3
   },
   "file_extension": ".py",
   "mimetype": "text/x-python",
   "name": "python",
   "nbconvert_exporter": "python",
   "pygments_lexer": "ipython3",
   "version": "3.7.8"
  }
 },
 "nbformat": 4,
 "nbformat_minor": 2
}
